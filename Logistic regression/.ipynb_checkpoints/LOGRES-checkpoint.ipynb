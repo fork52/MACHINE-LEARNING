{
 "cells": [
  {
   "cell_type": "code",
   "execution_count": 2,
   "metadata": {},
   "outputs": [],
   "source": [
    "import numpy as np\n",
    "import pprint as pr\n",
    "\n",
    "def loadDataSet():\n",
    "    dataMat = []; labelMat = []\n",
    "    fr = open('testSet.txt')\n",
    "    for line in fr.readlines():\n",
    "        lineArr = line.strip().split()\n",
    "        dataMat.append([1.0, float(lineArr[0]), float(lineArr[1])])\n",
    "        labelMat.append(int(lineArr[2]))\n",
    "    return dataMat,labelMat\n",
    "\n",
    "\n",
    "def sigmoid(inX):\n",
    "    return 1.0/(1+ np.exp(-inX))\n",
    "\n",
    "def gradAscent(dataMatIn, classLabels):\n",
    "    '''\n",
    "    Optimization algorithm\n",
    "    The first input, dataMatIn, is a 2D NumPy array, where the columns are \n",
    "    the different features and the rows are the different training examples. \n",
    "    '''\n",
    "\n",
    "    dataMatrix = np.mat(dataMatIn)\n",
    "    #for the matrix math to work, you need it to be a column vector, so youtake the transpose of it\n",
    "    labelMat = np.mat(classLabels).transpose()\n",
    "\n",
    "    # NumPy can operate on both 2D arrays and matrices, and the results will be different if you assume the wrong data type.\n",
    "    m,n = np.shape(dataMatrix)     # n - no of features in the dataset\n",
    "\n",
    "    alpha = 0.001   # learning rate\n",
    "\n",
    "    maxCycles = 500 # the number of times you’re going to repeat the calculation before stopping\n",
    "\n",
    "    #INITIALLY ALL WEIGHTS ARE SET TO 1\n",
    "    weights = np.ones((n,1))\n",
    "    for k in range(maxCycles):\n",
    "        h = sigmoid(dataMatrix*weights)\n",
    "        error = (labelMat - h)\n",
    "        #The multiplication dataMatrix * weights is not one multiplication but actually n.\n",
    "        weights = weights + alpha * dataMatrix.transpose()* error\n",
    "    return weights\n"
   ]
  },
  {
   "cell_type": "code",
   "execution_count": 3,
   "metadata": {},
   "outputs": [
    {
     "name": "stdout",
     "output_type": "stream",
     "text": [
      "[[1.0, -0.017612, 14.053064],\n",
      " [1.0, -1.395634, 4.662541],\n",
      " [1.0, -0.752157, 6.53862],\n",
      " [1.0, -1.322371, 7.152853],\n",
      " [1.0, 0.423363, 11.054677]]\n",
      "[0, 1, 0, 0, 0]\n"
     ]
    }
   ],
   "source": [
    "dataSet,labels = loadDataSet()\n",
    "pr.pprint(dataSet[:5] )\n",
    "pr.pprint(labels[:5])"
   ]
  },
  {
   "cell_type": "code",
   "execution_count": 4,
   "metadata": {},
   "outputs": [],
   "source": [
    "dataMatrix = np.mat(dataSet)\n",
    "labelMat = np.mat(labels).transpose()\n",
    "\n",
    "m,n = np.shape(dataSet)     # n -no of features in dataset\n",
    "alpha = 0.001   # learning rate\n",
    "maxCycles = 500 \n",
    "weights = np.ones((n,1))\n"
   ]
  },
  {
   "cell_type": "code",
   "execution_count": 5,
   "metadata": {},
   "outputs": [
    {
     "data": {
      "text/plain": [
       "matrix([[ 1.      , -0.017612, 14.053064],\n",
       "        [ 1.      , -1.395634,  4.662541],\n",
       "        [ 1.      , -0.752157,  6.53862 ],\n",
       "        [ 1.      , -1.322371,  7.152853],\n",
       "        [ 1.      ,  0.423363, 11.054677]])"
      ]
     },
     "execution_count": 5,
     "metadata": {},
     "output_type": "execute_result"
    }
   ],
   "source": [
    "dataMatrix[:5]"
   ]
  },
  {
   "cell_type": "code",
   "execution_count": 6,
   "metadata": {},
   "outputs": [
    {
     "data": {
      "text/plain": [
       "(100, 3)"
      ]
     },
     "execution_count": 6,
     "metadata": {},
     "output_type": "execute_result"
    }
   ],
   "source": [
    "np.shape(dataMatrix)"
   ]
  },
  {
   "cell_type": "code",
   "execution_count": 7,
   "metadata": {},
   "outputs": [
    {
     "data": {
      "text/plain": [
       "matrix([[0],\n",
       "        [1],\n",
       "        [0],\n",
       "        [0],\n",
       "        [0]])"
      ]
     },
     "execution_count": 7,
     "metadata": {},
     "output_type": "execute_result"
    }
   ],
   "source": [
    "labelMat[:5]"
   ]
  },
  {
   "cell_type": "code",
   "execution_count": 8,
   "metadata": {},
   "outputs": [
    {
     "data": {
      "text/plain": [
       "(100, 1)"
      ]
     },
     "execution_count": 8,
     "metadata": {},
     "output_type": "execute_result"
    }
   ],
   "source": [
    "np.shape(labelMat)"
   ]
  },
  {
   "cell_type": "code",
   "execution_count": 9,
   "metadata": {},
   "outputs": [
    {
     "data": {
      "text/plain": [
       "matrix([[15.035452],\n",
       "        [ 4.266907],\n",
       "        [ 6.786463],\n",
       "        [ 6.830482],\n",
       "        [12.47804 ]])"
      ]
     },
     "execution_count": 9,
     "metadata": {},
     "output_type": "execute_result"
    }
   ],
   "source": [
    "sample=dataMatrix*weights\n",
    "sample[:5]"
   ]
  },
  {
   "cell_type": "code",
   "execution_count": 10,
   "metadata": {},
   "outputs": [
    {
     "name": "stdout",
     "output_type": "stream",
     "text": [
      "[[0.9999997 ]\n",
      " [0.98616889]\n",
      " [0.99887232]\n",
      " [0.99892083]\n",
      " [0.99999619]]\n",
      "\n",
      "(100, 1)\n"
     ]
    }
   ],
   "source": [
    "h = sigmoid(dataMatrix*weights)\n",
    "print(h[:5] , np.shape(h),sep='\\n\\n')"
   ]
  },
  {
   "cell_type": "code",
   "execution_count": 11,
   "metadata": {},
   "outputs": [
    {
     "name": "stdout",
     "output_type": "stream",
     "text": [
      "[[-0.9999997 ]\n",
      " [ 0.01383111]\n",
      " [-0.99887232]\n",
      " [-0.99892083]\n",
      " [-0.99999619]]\n",
      "\n",
      "(100, 1)\n"
     ]
    }
   ],
   "source": [
    "error = labelMat - h\n",
    "print(error[:5],end='\\n\\n')\n",
    "print(np.shape(error))"
   ]
  },
  {
   "cell_type": "code",
   "execution_count": 12,
   "metadata": {},
   "outputs": [],
   "source": [
    "optimized_coefficients = gradAscent(dataSet,labels)"
   ]
  },
  {
   "cell_type": "code",
   "execution_count": 13,
   "metadata": {},
   "outputs": [
    {
     "data": {
      "text/plain": [
       "matrix([[ 4.12414349],\n",
       "        [ 0.48007329],\n",
       "        [-0.6168482 ]])"
      ]
     },
     "execution_count": 13,
     "metadata": {},
     "output_type": "execute_result"
    }
   ],
   "source": [
    "optimized_coefficients"
   ]
  },
  {
   "cell_type": "code",
   "execution_count": 14,
   "metadata": {},
   "outputs": [
    {
     "data": {
      "text/plain": [
       "(3, 1)"
      ]
     },
     "execution_count": 14,
     "metadata": {},
     "output_type": "execute_result"
    }
   ],
   "source": [
    "np.shape(optimized_coefficients)"
   ]
  },
  {
   "cell_type": "code",
   "execution_count": 18,
   "metadata": {},
   "outputs": [],
   "source": [
    "allOnes=np.mat(np.ones( np.shape(weights)))"
   ]
  },
  {
   "cell_type": "code",
   "execution_count": 21,
   "metadata": {},
   "outputs": [
    {
     "name": "stdout",
     "output_type": "stream",
     "text": [
      "[[1.]]\n",
      "[[1.]]\n",
      "[[1.]]\n"
     ]
    }
   ],
   "source": [
    "for i in test:\n",
    "    print(i[0])"
   ]
  },
  {
   "cell_type": "code",
   "execution_count": null,
   "metadata": {},
   "outputs": [],
   "source": [
    "oneMinusFunc = allOnes -  h "
   ]
  }
 ],
 "metadata": {
  "kernelspec": {
   "display_name": "Python 3",
   "language": "python",
   "name": "python3"
  },
  "language_info": {
   "codemirror_mode": {
    "name": "ipython",
    "version": 3
   },
   "file_extension": ".py",
   "mimetype": "text/x-python",
   "name": "python",
   "nbconvert_exporter": "python",
   "pygments_lexer": "ipython3",
   "version": "3.7.5"
  }
 },
 "nbformat": 4,
 "nbformat_minor": 2
}
