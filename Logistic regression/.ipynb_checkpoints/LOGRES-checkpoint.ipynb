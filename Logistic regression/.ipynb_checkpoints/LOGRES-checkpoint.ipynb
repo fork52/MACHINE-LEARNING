{
 "cells": [
  {
   "cell_type": "code",
   "execution_count": 1,
   "metadata": {},
   "outputs": [],
   "source": [
    "import numpy as np\n",
    "import pprint as pr\n",
    "\n",
    "def loadDataSet():\n",
    "    dataMat = []; labelMat = []\n",
    "    fr = open('testSet.txt')\n",
    "    for line in fr.readlines():\n",
    "        lineArr = line.strip().split()\n",
    "        dataMat.append([1.0, float(lineArr[0]), float(lineArr[1])])\n",
    "        labelMat.append(int(lineArr[2]))\n",
    "    return dataMat,labelMat\n",
    "\n",
    "\n",
    "def sigmoid(inX):\n",
    "    return 1.0/(1+ np.exp(-inX))\n",
    "\n",
    "def gradAscent(dataMatIn, classLabels):\n",
    "    '''\n",
    "    Optimization algorithm\n",
    "    The first input, dataMatIn, is a 2D NumPy array, where the columns are \n",
    "    the different features and the rows are the different training examples. \n",
    "    '''\n",
    "\n",
    "    dataMatrix = np.mat(dataMatIn)\n",
    "    #for the matrix math to work, you need it to be a column vector, so youtake the transpose of it\n",
    "    labelMat = np.mat(classLabels).transpose()\n",
    "\n",
    "    # NumPy can operate on both 2D arrays and matrices, and the results will be different if you assume the wrong data type.\n",
    "    m,n = np.shape(dataMatrix)     # n - no of features in the dataset\n",
    "\n",
    "    alpha = 0.001   # learning rate\n",
    "\n",
    "    maxCycles = 500 # the number of times you’re going to repeat the calculation before stopping\n",
    "\n",
    "    #INITIALLY ALL WEIGHTS ARE SET TO 1\n",
    "    weights = np.ones((n,1))\n",
    "    for k in range(maxCycles):\n",
    "        h = sigmoid(dataMatrix*weights)\n",
    "        error = (labelMat - h)\n",
    "        #The multiplication dataMatrix * weights is not one multiplication but actually n.\n",
    "        weights = weights + alpha * dataMatrix.transpose()* error\n",
    "    return weights\n"
   ]
  },
  {
   "cell_type": "code",
   "execution_count": 2,
   "metadata": {},
   "outputs": [
    {
     "name": "stdout",
     "output_type": "stream",
     "text": [
      "[[1.0, -0.017612, 14.053064],\n",
      " [1.0, -1.395634, 4.662541],\n",
      " [1.0, -0.752157, 6.53862],\n",
      " [1.0, -1.322371, 7.152853],\n",
      " [1.0, 0.423363, 11.054677]]\n",
      "[0, 1, 0, 0, 0]\n"
     ]
    }
   ],
   "source": [
    "dataSet,labels = loadDataSet()\n",
    "pr.pprint(dataSet[:5] )\n",
    "pr.pprint(labels[:5])"
   ]
  },
  {
   "cell_type": "code",
   "execution_count": 3,
   "metadata": {},
   "outputs": [],
   "source": [
    "dataMatrix = np.mat(dataSet)\n",
    "labelMat = np.mat(labels).transpose()\n",
    "\n",
    "m,n = np.shape(dataSet)     # n -no of features\n",
    "alpha = 0.001   # learning rate\n",
    "maxCycles = 500 \n",
    "weights = np.ones((n,1))\n"
   ]
  },
  {
   "cell_type": "code",
   "execution_count": 4,
   "metadata": {},
   "outputs": [
    {
     "data": {
      "text/plain": [
       "matrix([[ 1.      , -0.017612, 14.053064],\n",
       "        [ 1.      , -1.395634,  4.662541],\n",
       "        [ 1.      , -0.752157,  6.53862 ],\n",
       "        [ 1.      , -1.322371,  7.152853],\n",
       "        [ 1.      ,  0.423363, 11.054677]])"
      ]
     },
     "execution_count": 4,
     "metadata": {},
     "output_type": "execute_result"
    }
   ],
   "source": [
    "dataMatrix[:5]"
   ]
  },
  {
   "cell_type": "code",
   "execution_count": 9,
   "metadata": {},
   "outputs": [
    {
     "data": {
      "text/plain": [
       "(100, 3)"
      ]
     },
     "execution_count": 9,
     "metadata": {},
     "output_type": "execute_result"
    }
   ],
   "source": [
    "np.shape(dataMatrix)"
   ]
  },
  {
   "cell_type": "code",
   "execution_count": 5,
   "metadata": {},
   "outputs": [
    {
     "data": {
      "text/plain": [
       "matrix([[0],\n",
       "        [1],\n",
       "        [0],\n",
       "        [0],\n",
       "        [0]])"
      ]
     },
     "execution_count": 5,
     "metadata": {},
     "output_type": "execute_result"
    }
   ],
   "source": [
    "labelMat[:5]"
   ]
  },
  {
   "cell_type": "code",
   "execution_count": 17,
   "metadata": {},
   "outputs": [
    {
     "data": {
      "text/plain": [
       "(100, 1)"
      ]
     },
     "execution_count": 17,
     "metadata": {},
     "output_type": "execute_result"
    }
   ],
   "source": [
    "np.shape(labelMat)"
   ]
  },
  {
   "cell_type": "code",
   "execution_count": 6,
   "metadata": {},
   "outputs": [
    {
     "data": {
      "text/plain": [
       "matrix([[15.035452],\n",
       "        [ 4.266907],\n",
       "        [ 6.786463],\n",
       "        [ 6.830482],\n",
       "        [12.47804 ]])"
      ]
     },
     "execution_count": 6,
     "metadata": {},
     "output_type": "execute_result"
    }
   ],
   "source": [
    "sample=dataMatrix*weights\n",
    "sample[:5]"
   ]
  },
  {
   "cell_type": "code",
   "execution_count": 14,
   "metadata": {},
   "outputs": [
    {
     "name": "stdout",
     "output_type": "stream",
     "text": [
      "[[0.9999997 ]\n",
      " [0.98616889]\n",
      " [0.99887232]\n",
      " [0.99892083]\n",
      " [0.99999619]]\n",
      "\n",
      "(100, 1)\n"
     ]
    }
   ],
   "source": [
    "h = sigmoid(dataMatrix*weights)\n",
    "print(h[:5] , np.shape(h),sep='\\n\\n')"
   ]
  },
  {
   "cell_type": "code",
   "execution_count": 18,
   "metadata": {},
   "outputs": [
    {
     "name": "stdout",
     "output_type": "stream",
     "text": [
      "[[-9.99999705e-01]\n",
      " [ 1.38311131e-02]\n",
      " [-9.98872318e-01]\n",
      " [-9.98920829e-01]\n",
      " [-9.99996191e-01]\n",
      " [ 2.08776178e-04]\n",
      " [-9.99999448e-01]\n",
      " [ 4.46658302e-03]\n",
      " [-9.99985160e-01]\n",
      " [-9.99988817e-01]\n",
      " [ 1.55180408e-04]\n",
      " [-9.99999819e-01]\n",
      " [ 4.75480712e-03]\n",
      " [-9.99755508e-01]\n",
      " [ 2.06121361e-03]\n",
      " [ 2.87166819e-02]\n",
      " [ 8.01985278e-04]\n",
      " [ 2.52209704e-02]\n",
      " [ 2.23182435e-01]\n",
      " [ 4.22517114e-04]\n",
      " [ 1.99340232e-03]\n",
      " [ 7.77471707e-01]\n",
      " [-9.99994982e-01]\n",
      " [ 7.36050513e-01]\n",
      " [ 1.75377198e-01]\n",
      " [-9.99992607e-01]\n",
      " [-9.99914316e-01]\n",
      " [ 9.86075568e-01]\n",
      " [ 7.84550562e-03]\n",
      " [-9.99994072e-01]\n",
      " [ 9.92265048e-03]\n",
      " [ 5.26440337e-05]\n",
      " [-9.99998997e-01]\n",
      " [ 9.40130641e-01]\n",
      " [ 7.85460201e-04]\n",
      " [-9.99979982e-01]\n",
      " [-9.99979663e-01]\n",
      " [-9.99825445e-01]\n",
      " [-9.99991040e-01]\n",
      " [-9.99985247e-01]\n",
      " [ 2.08032168e-02]\n",
      " [ 2.89409924e-04]\n",
      " [-9.99977505e-01]\n",
      " [ 6.29409096e-02]\n",
      " [ 1.09372974e-02]\n",
      " [-9.99966746e-01]\n",
      " [ 8.64090701e-01]\n",
      " [ 7.83156928e-04]\n",
      " [-9.99990792e-01]\n",
      " [-9.99996222e-01]\n",
      " [-9.99950152e-01]\n",
      " [-9.99982794e-01]\n",
      " [-9.99826745e-01]\n",
      " [-9.99999824e-01]\n",
      " [ 5.33699377e-04]\n",
      " [ 3.57681460e-04]\n",
      " [-9.99988504e-01]\n",
      " [ 2.74100613e-05]\n",
      " [-9.99991206e-01]\n",
      " [ 4.57168621e-03]\n",
      " [ 1.36892448e-02]\n",
      " [ 3.07400940e-02]\n",
      " [-9.99957612e-01]\n",
      " [-9.99998988e-01]\n",
      " [-9.99998789e-01]\n",
      " [ 7.81911565e-01]\n",
      " [ 4.50551593e-05]\n",
      " [-9.99999085e-01]\n",
      " [-9.99998650e-01]\n",
      " [-9.99986683e-01]\n",
      " [-9.99994432e-01]\n",
      " [ 4.67329863e-01]\n",
      " [-9.99999571e-01]\n",
      " [ 2.34874355e-02]\n",
      " [-9.99988865e-01]\n",
      " [-9.99931409e-01]\n",
      " [ 6.64929709e-01]\n",
      " [ 1.10832850e-02]\n",
      " [ 3.10754358e-04]\n",
      " [ 1.07285749e-02]\n",
      " [-9.96135092e-01]\n",
      " [ 9.62978241e-01]\n",
      " [-9.99997965e-01]\n",
      " [ 4.06978628e-06]\n",
      " [ 1.69550543e-01]\n",
      " [ 8.27604054e-01]\n",
      " [ 1.79431989e-02]\n",
      " [-9.99999703e-01]\n",
      " [ 2.68871522e-04]\n",
      " [ 2.42633906e-01]\n",
      " [ 4.07552621e-01]\n",
      " [-9.99999818e-01]\n",
      " [-9.99982303e-01]\n",
      " [ 1.14211320e-01]\n",
      " [ 1.76428743e-01]\n",
      " [ 1.42780771e-02]\n",
      " [-9.99996103e-01]\n",
      " [ 7.35976291e-01]\n",
      " [-9.99991956e-01]\n",
      " [-9.99999894e-01]]\n",
      "\n",
      "(100, 1)\n"
     ]
    }
   ],
   "source": [
    "error = labelMat - h\n",
    "print(error,end='\\n\\n')\n",
    "print(np.shape(error))"
   ]
  },
  {
   "cell_type": "code",
   "execution_count": 72,
   "metadata": {},
   "outputs": [
    {
     "data": {
      "text/plain": [
       "matrix([[ 4.12414349],\n",
       "        [ 0.48007329],\n",
       "        [-0.6168482 ]])"
      ]
     },
     "execution_count": 72,
     "metadata": {},
     "output_type": "execute_result"
    }
   ],
   "source": [
    "gradAscent(dataSet,labels)"
   ]
  },
  {
   "cell_type": "code",
   "execution_count": null,
   "metadata": {},
   "outputs": [],
   "source": []
  }
 ],
 "metadata": {
  "kernelspec": {
   "display_name": "Python 3",
   "language": "python",
   "name": "python3"
  },
  "language_info": {
   "codemirror_mode": {
    "name": "ipython",
    "version": 3
   },
   "file_extension": ".py",
   "mimetype": "text/x-python",
   "name": "python",
   "nbconvert_exporter": "python",
   "pygments_lexer": "ipython3",
   "version": "3.7.5"
  }
 },
 "nbformat": 4,
 "nbformat_minor": 2
}
